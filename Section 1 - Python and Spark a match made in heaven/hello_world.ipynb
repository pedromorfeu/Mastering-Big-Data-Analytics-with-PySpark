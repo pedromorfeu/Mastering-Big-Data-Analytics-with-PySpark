{
 "cells": [
  {
   "cell_type": "markdown",
   "metadata": {},
   "source": [
    "## SparkSession\n",
    "\n",
    "In order to work with Spark, we have to first set up a `SparkSession`.\n",
    "\n",
    "From this point forward, we can interact with Apache Spark using this `spark` object."
   ]
  },
  {
   "cell_type": "code",
   "execution_count": 1,
   "metadata": {},
   "outputs": [
    {
     "data": {
      "text/plain": [
       "'2.4.3'"
      ]
     },
     "execution_count": 1,
     "metadata": {},
     "output_type": "execute_result"
    }
   ],
   "source": [
    "from pyspark.sql import SparkSession\n",
    "\n",
    "# The builder method is used to set up an app which we name 'HelloWorldApp'\n",
    "spark = SparkSession\\\n",
    "    .builder\\\n",
    "    .appName(\"HelloWorldApp\")\\\n",
    "    .master(\"local[4]\")\\\n",
    "    .getOrCreate()\n",
    "\n",
    "spark.version"
   ]
  },
  {
   "cell_type": "markdown",
   "metadata": {},
   "source": [
    "Let's break down this code snippet a bit further.\n",
    "In order to work with Spark, we have to set up a Spark Application which we wish to name `HelloWorldApp`.\n",
    "\n",
    "To do this:\n",
    "- We initiated a `SparkSession` using the `.builder` method.\n",
    "- We used `.appName` to tell Spark to name our Application `HelloWorldApp`. \n",
    "- We used `.getOrCreate()` to tell Spark to create the Application if it does not exist yet, or reconnect to the existing app with the given name should it exist already.\n",
    "- Finally, the reference to this Spark application is stored in an object we named `spark`\n",
    "\n",
    "*__Note__ that without a SparkSession, it is not possible to access and use Spark.\n",
    "More information about SparkSession can be found [here](https://spark.apache.org/docs/latest/api/python/pyspark.sql.html#pyspark.sql.SparkSession)*"
   ]
  },
  {
   "cell_type": "markdown",
   "metadata": {},
   "source": [
    "### Hello World\n",
    "\n",
    "Next, we will use this newly created `spark` object to create some data."
   ]
  },
  {
   "cell_type": "code",
   "execution_count": 3,
   "metadata": {},
   "outputs": [
    {
     "name": "stdout",
     "output_type": "stream",
     "text": [
      "+-----------+---+\n",
      "|         c1| c2|\n",
      "+-----------+---+\n",
      "|hello world|hey|\n",
      "+-----------+---+\n",
      "\n"
     ]
    }
   ],
   "source": [
    "# Using Spark SQL, we create a dataframe which holds our `hello world` data\n",
    "df = spark.sql('SELECT \"hello world\" as c1, \"hey\" as c2')\n",
    "\n",
    "# We can then use the `show()` method to see what the DataFrame we just created looks like\n",
    "df\\\n",
    "    .select(\"c1\",\"c2\")\\\n",
    "    .show()"
   ]
  },
  {
   "cell_type": "code",
   "execution_count": 7,
   "metadata": {},
   "outputs": [
    {
     "data": {
      "text/plain": [
       "[2, 4, 6]"
      ]
     },
     "execution_count": 7,
     "metadata": {},
     "output_type": "execute_result"
    }
   ],
   "source": [
    "spark.sparkContext.parallelize([1,2,3]).map(lambda x: x*2).collect()"
   ]
  },
  {
   "cell_type": "code",
   "execution_count": null,
   "metadata": {},
   "outputs": [
    {
     "name": "stdout",
     "output_type": "stream",
     "text": [
      "root\n",
      " |-- c1: string (nullable = true)\n",
      " |-- c2: integer (nullable = true)\n",
      "\n",
      "+---+---+\n",
      "| c1| c2|\n",
      "+---+---+\n",
      "|  a|  1|\n",
      "|  a|  2|\n",
      "|  b|  2|\n",
      "|  c|  3|\n",
      "+---+---+\n",
      "\n"
     ]
    }
   ],
   "source": [
    "from pyspark.sql import Row\n",
    "from pyspark.sql.functions import sum,max\n",
    "\n",
    "df1 = spark.createDataFrame([ \n",
    "    Row(c1=\"a\", c2=1),\n",
    "    Row(c1=\"a\", c2=2),\n",
    "    Row(c1=\"b\", c2=2),\n",
    "    Row(c1=\"c\", c2=3)\n",
    "], schema=\"c1 string, c2 int\")\n",
    "df1.printSchema()\n",
    "df1.show()\n",
    "\n",
    "max_df = df1\\\n",
    "    .groupBy(\"c1\")\\\n",
    "    .agg(sum(\"c2\").alias(\"total\"))\\\n",
    "    .cache()\n",
    "max_value= max_df\\\n",
    "    .select(max(\"total\").alias(\"max\"))\\\n",
    "    .take(1)[0]\\\n",
    "    .__getitem__(\"max\")\n",
    "print(max)\n",
    "max_df\\\n",
    "    .filter(max_df.total == max_value)\\\n",
    "    .show()"
   ]
  },
  {
   "cell_type": "markdown",
   "metadata": {},
   "source": [
    "If you did everything right, you should see a table with your Hello World message inside. __Congratulations!__ You've just built your first Spark application that says hello to the world!!\n",
    "\n",
    "> *__Troubleshooting__: if you run this code snippet without having set up a SparkSession (Spark Application), it throws an error like this:*\n",
    "> ```\n",
    "Py4JJavaError: An error occurred while calling o116.showString.\n",
    ": java.lang.IllegalStateException: SparkContext has been shutdown\n",
    "```\n",
    "> ->\n",
    "> __Fix this by running the SparkSession builder first (cell above)__"
   ]
  },
  {
   "cell_type": "markdown",
   "metadata": {},
   "source": [
    "### Stopping our Spark application\n",
    "\n",
    "It is always good practice to clean up behind ourselves. \n",
    "As we do not need this Application anymore after running what we want from it, we can kill it (stop it) using `.stop()`.\n",
    "This tells Spark that it can kill off this Application and free up the resources."
   ]
  },
  {
   "cell_type": "code",
   "execution_count": 3,
   "metadata": {},
   "outputs": [],
   "source": [
    "# To kill the Spark application, use the `stop()` method\n",
    "spark.stop()"
   ]
  },
  {
   "cell_type": "markdown",
   "metadata": {},
   "source": [
    "That brings us to the end of this part of our tutorial.\n",
    "\n",
    "**Happy Sparking!**"
   ]
  }
 ],
 "metadata": {
  "kernelspec": {
   "display_name": "Python 3",
   "language": "python",
   "name": "python3"
  },
  "language_info": {
   "codemirror_mode": {
    "name": "ipython",
    "version": 3
   },
   "file_extension": ".py",
   "mimetype": "text/x-python",
   "name": "python",
   "nbconvert_exporter": "python",
   "pygments_lexer": "ipython3",
   "version": "3.7.3"
  }
 },
 "nbformat": 4,
 "nbformat_minor": 2
}
